{
  "nbformat": 4,
  "nbformat_minor": 0,
  "metadata": {
    "colab": {
      "provenance": [],
      "authorship_tag": "ABX9TyM8y1ot9A0qD4qRdCbggay/",
      "include_colab_link": true
    },
    "kernelspec": {
      "name": "python3",
      "display_name": "Python 3"
    },
    "language_info": {
      "name": "python"
    }
  },
  "cells": [
    {
      "cell_type": "markdown",
      "metadata": {
        "id": "view-in-github",
        "colab_type": "text"
      },
      "source": [
        "<a href=\"https://colab.research.google.com/github/AtikaOktavianti/-Predictive-Analytics/blob/main/Sistem_Rekomendasi.ipynb\" target=\"_parent\"><img src=\"https://colab.research.google.com/assets/colab-badge.svg\" alt=\"Open In Colab\"/></a>"
      ]
    },
    {
      "cell_type": "markdown",
      "source": [
        "#**Mobile Recommendation System Dataset**\n",
        "\n",
        "Nama: Atika Oktavianti\n",
        "\n",
        "Username: atika_oktavianti_0gNF\n",
        "\n",
        "Membangun sistem rekomendasi berbagai model ponsel beserta rating, harga, dan deskripsi fitur teknisnya, yang bisa digunakan untuk membangun sistem rekomendasi ponsel sesuai preferensi pengguna. Menggunakan dataset yang diambil dari platform Kaggle pada link berikut:\n",
        "https://www.kaggle.com/datasets/gyanprakashkushwaha/mobile-recommendation-system-dataset"
      ],
      "metadata": {
        "id": "jHmAyDOdtFsV"
      }
    },
    {
      "cell_type": "markdown",
      "source": [
        "## Pendekatan Rekomendasi\n",
        "Dalam proyek ini, digunakan pendekatan **Content-Based Filtering** untuk membangun sistem rekomendasi. Pendekatan ini merekomendasikan produk berdasarkan kemiripan deskripsi fitur (corpus) antar produk, tanpa mempertimbangkan interaksi pengguna lain. Proses kemiripan dihitung menggunakan TF-IDF vectorization dan cosine similarity."
      ],
      "metadata": {
        "id": "wLSnygRx_9OK"
      }
    },
    {
      "cell_type": "markdown",
      "source": [
        "**Mengunduh Dataset dari Kaggle**"
      ],
      "metadata": {
        "id": "mvLOgAWhtZD5"
      }
    },
    {
      "cell_type": "code",
      "execution_count": 1,
      "metadata": {
        "id": "SKxaPXVZs61U"
      },
      "outputs": [],
      "source": [
        "# Memasang Kaggle API\n",
        "!pip install -q kaggle"
      ]
    },
    {
      "cell_type": "code",
      "source": [
        "# Upload file kaggle.json\n",
        "from google.colab import files\n",
        "files.upload()"
      ],
      "metadata": {
        "colab": {
          "base_uri": "https://localhost:8080/",
          "height": 90
        },
        "id": "0q3l__EnvMJ0",
        "outputId": "6ba33757-c5b8-47fe-cf35-32eb9c3a4ce1"
      },
      "execution_count": 2,
      "outputs": [
        {
          "output_type": "display_data",
          "data": {
            "text/plain": [
              "<IPython.core.display.HTML object>"
            ],
            "text/html": [
              "\n",
              "     <input type=\"file\" id=\"files-69362205-5d0f-4479-a0a4-dcb5346ceb6c\" name=\"files[]\" multiple disabled\n",
              "        style=\"border:none\" />\n",
              "     <output id=\"result-69362205-5d0f-4479-a0a4-dcb5346ceb6c\">\n",
              "      Upload widget is only available when the cell has been executed in the\n",
              "      current browser session. Please rerun this cell to enable.\n",
              "      </output>\n",
              "      <script>// Copyright 2017 Google LLC\n",
              "//\n",
              "// Licensed under the Apache License, Version 2.0 (the \"License\");\n",
              "// you may not use this file except in compliance with the License.\n",
              "// You may obtain a copy of the License at\n",
              "//\n",
              "//      http://www.apache.org/licenses/LICENSE-2.0\n",
              "//\n",
              "// Unless required by applicable law or agreed to in writing, software\n",
              "// distributed under the License is distributed on an \"AS IS\" BASIS,\n",
              "// WITHOUT WARRANTIES OR CONDITIONS OF ANY KIND, either express or implied.\n",
              "// See the License for the specific language governing permissions and\n",
              "// limitations under the License.\n",
              "\n",
              "/**\n",
              " * @fileoverview Helpers for google.colab Python module.\n",
              " */\n",
              "(function(scope) {\n",
              "function span(text, styleAttributes = {}) {\n",
              "  const element = document.createElement('span');\n",
              "  element.textContent = text;\n",
              "  for (const key of Object.keys(styleAttributes)) {\n",
              "    element.style[key] = styleAttributes[key];\n",
              "  }\n",
              "  return element;\n",
              "}\n",
              "\n",
              "// Max number of bytes which will be uploaded at a time.\n",
              "const MAX_PAYLOAD_SIZE = 100 * 1024;\n",
              "\n",
              "function _uploadFiles(inputId, outputId) {\n",
              "  const steps = uploadFilesStep(inputId, outputId);\n",
              "  const outputElement = document.getElementById(outputId);\n",
              "  // Cache steps on the outputElement to make it available for the next call\n",
              "  // to uploadFilesContinue from Python.\n",
              "  outputElement.steps = steps;\n",
              "\n",
              "  return _uploadFilesContinue(outputId);\n",
              "}\n",
              "\n",
              "// This is roughly an async generator (not supported in the browser yet),\n",
              "// where there are multiple asynchronous steps and the Python side is going\n",
              "// to poll for completion of each step.\n",
              "// This uses a Promise to block the python side on completion of each step,\n",
              "// then passes the result of the previous step as the input to the next step.\n",
              "function _uploadFilesContinue(outputId) {\n",
              "  const outputElement = document.getElementById(outputId);\n",
              "  const steps = outputElement.steps;\n",
              "\n",
              "  const next = steps.next(outputElement.lastPromiseValue);\n",
              "  return Promise.resolve(next.value.promise).then((value) => {\n",
              "    // Cache the last promise value to make it available to the next\n",
              "    // step of the generator.\n",
              "    outputElement.lastPromiseValue = value;\n",
              "    return next.value.response;\n",
              "  });\n",
              "}\n",
              "\n",
              "/**\n",
              " * Generator function which is called between each async step of the upload\n",
              " * process.\n",
              " * @param {string} inputId Element ID of the input file picker element.\n",
              " * @param {string} outputId Element ID of the output display.\n",
              " * @return {!Iterable<!Object>} Iterable of next steps.\n",
              " */\n",
              "function* uploadFilesStep(inputId, outputId) {\n",
              "  const inputElement = document.getElementById(inputId);\n",
              "  inputElement.disabled = false;\n",
              "\n",
              "  const outputElement = document.getElementById(outputId);\n",
              "  outputElement.innerHTML = '';\n",
              "\n",
              "  const pickedPromise = new Promise((resolve) => {\n",
              "    inputElement.addEventListener('change', (e) => {\n",
              "      resolve(e.target.files);\n",
              "    });\n",
              "  });\n",
              "\n",
              "  const cancel = document.createElement('button');\n",
              "  inputElement.parentElement.appendChild(cancel);\n",
              "  cancel.textContent = 'Cancel upload';\n",
              "  const cancelPromise = new Promise((resolve) => {\n",
              "    cancel.onclick = () => {\n",
              "      resolve(null);\n",
              "    };\n",
              "  });\n",
              "\n",
              "  // Wait for the user to pick the files.\n",
              "  const files = yield {\n",
              "    promise: Promise.race([pickedPromise, cancelPromise]),\n",
              "    response: {\n",
              "      action: 'starting',\n",
              "    }\n",
              "  };\n",
              "\n",
              "  cancel.remove();\n",
              "\n",
              "  // Disable the input element since further picks are not allowed.\n",
              "  inputElement.disabled = true;\n",
              "\n",
              "  if (!files) {\n",
              "    return {\n",
              "      response: {\n",
              "        action: 'complete',\n",
              "      }\n",
              "    };\n",
              "  }\n",
              "\n",
              "  for (const file of files) {\n",
              "    const li = document.createElement('li');\n",
              "    li.append(span(file.name, {fontWeight: 'bold'}));\n",
              "    li.append(span(\n",
              "        `(${file.type || 'n/a'}) - ${file.size} bytes, ` +\n",
              "        `last modified: ${\n",
              "            file.lastModifiedDate ? file.lastModifiedDate.toLocaleDateString() :\n",
              "                                    'n/a'} - `));\n",
              "    const percent = span('0% done');\n",
              "    li.appendChild(percent);\n",
              "\n",
              "    outputElement.appendChild(li);\n",
              "\n",
              "    const fileDataPromise = new Promise((resolve) => {\n",
              "      const reader = new FileReader();\n",
              "      reader.onload = (e) => {\n",
              "        resolve(e.target.result);\n",
              "      };\n",
              "      reader.readAsArrayBuffer(file);\n",
              "    });\n",
              "    // Wait for the data to be ready.\n",
              "    let fileData = yield {\n",
              "      promise: fileDataPromise,\n",
              "      response: {\n",
              "        action: 'continue',\n",
              "      }\n",
              "    };\n",
              "\n",
              "    // Use a chunked sending to avoid message size limits. See b/62115660.\n",
              "    let position = 0;\n",
              "    do {\n",
              "      const length = Math.min(fileData.byteLength - position, MAX_PAYLOAD_SIZE);\n",
              "      const chunk = new Uint8Array(fileData, position, length);\n",
              "      position += length;\n",
              "\n",
              "      const base64 = btoa(String.fromCharCode.apply(null, chunk));\n",
              "      yield {\n",
              "        response: {\n",
              "          action: 'append',\n",
              "          file: file.name,\n",
              "          data: base64,\n",
              "        },\n",
              "      };\n",
              "\n",
              "      let percentDone = fileData.byteLength === 0 ?\n",
              "          100 :\n",
              "          Math.round((position / fileData.byteLength) * 100);\n",
              "      percent.textContent = `${percentDone}% done`;\n",
              "\n",
              "    } while (position < fileData.byteLength);\n",
              "  }\n",
              "\n",
              "  // All done.\n",
              "  yield {\n",
              "    response: {\n",
              "      action: 'complete',\n",
              "    }\n",
              "  };\n",
              "}\n",
              "\n",
              "scope.google = scope.google || {};\n",
              "scope.google.colab = scope.google.colab || {};\n",
              "scope.google.colab._files = {\n",
              "  _uploadFiles,\n",
              "  _uploadFilesContinue,\n",
              "};\n",
              "})(self);\n",
              "</script> "
            ]
          },
          "metadata": {}
        },
        {
          "output_type": "stream",
          "name": "stdout",
          "text": [
            "Saving kaggle.json to kaggle.json\n"
          ]
        },
        {
          "output_type": "execute_result",
          "data": {
            "text/plain": [
              "{'kaggle.json': b'{\"username\":\"atikaoktavianti\",\"key\":\"e7054724caf6c127e3e103ea57b1f37c\"}'}"
            ]
          },
          "metadata": {},
          "execution_count": 2
        }
      ]
    },
    {
      "cell_type": "code",
      "source": [
        "!mkdir -p ~/.kaggle\n",
        "!cp kaggle.json ~/.kaggle/kaggle.json\n",
        "!chmod 600 ~/.kaggle/kaggle.json"
      ],
      "metadata": {
        "id": "6B7vP3i1vRAD"
      },
      "execution_count": 4,
      "outputs": []
    },
    {
      "cell_type": "code",
      "source": [
        "# Unduh dataset Mobile Recommendation System\n",
        "!kaggle datasets download -d gyanprakashkushwaha/mobile-recommendation-system-dataset"
      ],
      "metadata": {
        "colab": {
          "base_uri": "https://localhost:8080/"
        },
        "id": "n_wOIcpvvsh_",
        "outputId": "9e371d39-bd39-43e8-d5f4-451bb23aaf8d"
      },
      "execution_count": 8,
      "outputs": [
        {
          "output_type": "stream",
          "name": "stdout",
          "text": [
            "Dataset URL: https://www.kaggle.com/datasets/gyanprakashkushwaha/mobile-recommendation-system-dataset\n",
            "License(s): apache-2.0\n",
            "Downloading mobile-recommendation-system-dataset.zip to /content\n",
            "  0% 0.00/248k [00:00<?, ?B/s]\n",
            "100% 248k/248k [00:00<00:00, 401MB/s]\n"
          ]
        }
      ]
    },
    {
      "cell_type": "code",
      "source": [
        "# Ekstrak file ZIP\n",
        "!unzip mobile-recommendation-system-dataset.zip"
      ],
      "metadata": {
        "colab": {
          "base_uri": "https://localhost:8080/"
        },
        "id": "Jst5abIHyXMT",
        "outputId": "0113f4b2-ad41-4ac9-a27d-878b8b9de5f9"
      },
      "execution_count": 9,
      "outputs": [
        {
          "output_type": "stream",
          "name": "stdout",
          "text": [
            "Archive:  mobile-recommendation-system-dataset.zip\n",
            "  inflating: mobile_recommendation_system_dataset.csv  \n"
          ]
        }
      ]
    },
    {
      "cell_type": "markdown",
      "source": [
        "#Import Library"
      ],
      "metadata": {
        "id": "14yD2MHRye5a"
      }
    },
    {
      "cell_type": "markdown",
      "source": [
        "Mengimport library yang dibutuhkan"
      ],
      "metadata": {
        "id": "VE5nMNLRykDW"
      }
    },
    {
      "cell_type": "code",
      "source": [
        "# Library dasar\n",
        "import pandas as pd\n",
        "import numpy as np\n",
        "\n",
        "# Visualisasi\n",
        "import matplotlib.pyplot as plt\n",
        "import seaborn as sns\n",
        "\n",
        "# Preprocessing dan machine learning\n",
        "from sklearn.preprocessing import StandardScaler\n",
        "from sklearn.metrics.pairwise import cosine_similarity\n",
        "\n",
        "# Untuk sistem rekomendasi\n",
        "from sklearn.feature_extraction.text import TfidfVectorizer"
      ],
      "metadata": {
        "id": "qpwf-Fo9ym7K"
      },
      "execution_count": 10,
      "outputs": []
    },
    {
      "cell_type": "markdown",
      "source": [
        "#Load Dataset"
      ],
      "metadata": {
        "id": "nmIxB2UoyxiM"
      }
    },
    {
      "cell_type": "markdown",
      "source": [
        "Memuat dataset yang sudah diunduh dari kaggle"
      ],
      "metadata": {
        "id": "FUYM7xGMyzmN"
      }
    },
    {
      "cell_type": "code",
      "source": [
        "# Load dataset\n",
        "df = pd.read_csv(\"mobile_recommendation_system_dataset.csv\")\n",
        "\n",
        "# Tampilkan 5 baris pertama\n",
        "df.head()"
      ],
      "metadata": {
        "colab": {
          "base_uri": "https://localhost:8080/",
          "height": 380
        },
        "id": "LP9HhjiPzCcp",
        "outputId": "46737995-ba5a-40a9-c8a3-5f739dabd977"
      },
      "execution_count": 11,
      "outputs": [
        {
          "output_type": "execute_result",
          "data": {
            "text/plain": [
              "                                        name  ratings    price  \\\n",
              "0  REDMI Note 12 Pro 5G (Onyx Black, 128 GB)      4.2    23999   \n",
              "1        OPPO F11 Pro (Aurora Green, 128 GB)      4.5  ₹20,999   \n",
              "2     REDMI Note 11 (Starburst White, 64 GB)      4.2    13149   \n",
              "3     OnePlus Nord CE 5G (Blue Void, 256 GB)      4.1    21999   \n",
              "4        APPLE iPhone 13 mini (Blue, 128 GB)      4.6     3537   \n",
              "\n",
              "                                              imgURL  \\\n",
              "0  https://rukminim2.flixcart.com/image/312/312/x...   \n",
              "1  https://rukminim2.flixcart.com/image/312/312/k...   \n",
              "2  https://rukminim2.flixcart.com/image/312/312/x...   \n",
              "3  https://rukminim2.flixcart.com/image/312/312/x...   \n",
              "4  https://rukminim2.flixcart.com/image/312/312/k...   \n",
              "\n",
              "                                              corpus  \n",
              "0  Storage128 GBRAM6  SystemAndroid 12Processor T...  \n",
              "1  Storage128 GBRAM6 GBExpandable Storage256GB  S...  \n",
              "2  Storage64 GBRAM4  SystemAndroid 11Processor Sp...  \n",
              "3  Storage256 GBRAM12  SystemAndroid Q 11Processo...  \n",
              "4  Storage128  SystemiOS 15Processor TypeA15 Bion...  "
            ],
            "text/html": [
              "\n",
              "  <div id=\"df-729b6e76-a205-47dc-9120-94107f4dbac6\" class=\"colab-df-container\">\n",
              "    <div>\n",
              "<style scoped>\n",
              "    .dataframe tbody tr th:only-of-type {\n",
              "        vertical-align: middle;\n",
              "    }\n",
              "\n",
              "    .dataframe tbody tr th {\n",
              "        vertical-align: top;\n",
              "    }\n",
              "\n",
              "    .dataframe thead th {\n",
              "        text-align: right;\n",
              "    }\n",
              "</style>\n",
              "<table border=\"1\" class=\"dataframe\">\n",
              "  <thead>\n",
              "    <tr style=\"text-align: right;\">\n",
              "      <th></th>\n",
              "      <th>name</th>\n",
              "      <th>ratings</th>\n",
              "      <th>price</th>\n",
              "      <th>imgURL</th>\n",
              "      <th>corpus</th>\n",
              "    </tr>\n",
              "  </thead>\n",
              "  <tbody>\n",
              "    <tr>\n",
              "      <th>0</th>\n",
              "      <td>REDMI Note 12 Pro 5G (Onyx Black, 128 GB)</td>\n",
              "      <td>4.2</td>\n",
              "      <td>23999</td>\n",
              "      <td>https://rukminim2.flixcart.com/image/312/312/x...</td>\n",
              "      <td>Storage128 GBRAM6  SystemAndroid 12Processor T...</td>\n",
              "    </tr>\n",
              "    <tr>\n",
              "      <th>1</th>\n",
              "      <td>OPPO F11 Pro (Aurora Green, 128 GB)</td>\n",
              "      <td>4.5</td>\n",
              "      <td>₹20,999</td>\n",
              "      <td>https://rukminim2.flixcart.com/image/312/312/k...</td>\n",
              "      <td>Storage128 GBRAM6 GBExpandable Storage256GB  S...</td>\n",
              "    </tr>\n",
              "    <tr>\n",
              "      <th>2</th>\n",
              "      <td>REDMI Note 11 (Starburst White, 64 GB)</td>\n",
              "      <td>4.2</td>\n",
              "      <td>13149</td>\n",
              "      <td>https://rukminim2.flixcart.com/image/312/312/x...</td>\n",
              "      <td>Storage64 GBRAM4  SystemAndroid 11Processor Sp...</td>\n",
              "    </tr>\n",
              "    <tr>\n",
              "      <th>3</th>\n",
              "      <td>OnePlus Nord CE 5G (Blue Void, 256 GB)</td>\n",
              "      <td>4.1</td>\n",
              "      <td>21999</td>\n",
              "      <td>https://rukminim2.flixcart.com/image/312/312/x...</td>\n",
              "      <td>Storage256 GBRAM12  SystemAndroid Q 11Processo...</td>\n",
              "    </tr>\n",
              "    <tr>\n",
              "      <th>4</th>\n",
              "      <td>APPLE iPhone 13 mini (Blue, 128 GB)</td>\n",
              "      <td>4.6</td>\n",
              "      <td>3537</td>\n",
              "      <td>https://rukminim2.flixcart.com/image/312/312/k...</td>\n",
              "      <td>Storage128  SystemiOS 15Processor TypeA15 Bion...</td>\n",
              "    </tr>\n",
              "  </tbody>\n",
              "</table>\n",
              "</div>\n",
              "    <div class=\"colab-df-buttons\">\n",
              "\n",
              "  <div class=\"colab-df-container\">\n",
              "    <button class=\"colab-df-convert\" onclick=\"convertToInteractive('df-729b6e76-a205-47dc-9120-94107f4dbac6')\"\n",
              "            title=\"Convert this dataframe to an interactive table.\"\n",
              "            style=\"display:none;\">\n",
              "\n",
              "  <svg xmlns=\"http://www.w3.org/2000/svg\" height=\"24px\" viewBox=\"0 -960 960 960\">\n",
              "    <path d=\"M120-120v-720h720v720H120Zm60-500h600v-160H180v160Zm220 220h160v-160H400v160Zm0 220h160v-160H400v160ZM180-400h160v-160H180v160Zm440 0h160v-160H620v160ZM180-180h160v-160H180v160Zm440 0h160v-160H620v160Z\"/>\n",
              "  </svg>\n",
              "    </button>\n",
              "\n",
              "  <style>\n",
              "    .colab-df-container {\n",
              "      display:flex;\n",
              "      gap: 12px;\n",
              "    }\n",
              "\n",
              "    .colab-df-convert {\n",
              "      background-color: #E8F0FE;\n",
              "      border: none;\n",
              "      border-radius: 50%;\n",
              "      cursor: pointer;\n",
              "      display: none;\n",
              "      fill: #1967D2;\n",
              "      height: 32px;\n",
              "      padding: 0 0 0 0;\n",
              "      width: 32px;\n",
              "    }\n",
              "\n",
              "    .colab-df-convert:hover {\n",
              "      background-color: #E2EBFA;\n",
              "      box-shadow: 0px 1px 2px rgba(60, 64, 67, 0.3), 0px 1px 3px 1px rgba(60, 64, 67, 0.15);\n",
              "      fill: #174EA6;\n",
              "    }\n",
              "\n",
              "    .colab-df-buttons div {\n",
              "      margin-bottom: 4px;\n",
              "    }\n",
              "\n",
              "    [theme=dark] .colab-df-convert {\n",
              "      background-color: #3B4455;\n",
              "      fill: #D2E3FC;\n",
              "    }\n",
              "\n",
              "    [theme=dark] .colab-df-convert:hover {\n",
              "      background-color: #434B5C;\n",
              "      box-shadow: 0px 1px 3px 1px rgba(0, 0, 0, 0.15);\n",
              "      filter: drop-shadow(0px 1px 2px rgba(0, 0, 0, 0.3));\n",
              "      fill: #FFFFFF;\n",
              "    }\n",
              "  </style>\n",
              "\n",
              "    <script>\n",
              "      const buttonEl =\n",
              "        document.querySelector('#df-729b6e76-a205-47dc-9120-94107f4dbac6 button.colab-df-convert');\n",
              "      buttonEl.style.display =\n",
              "        google.colab.kernel.accessAllowed ? 'block' : 'none';\n",
              "\n",
              "      async function convertToInteractive(key) {\n",
              "        const element = document.querySelector('#df-729b6e76-a205-47dc-9120-94107f4dbac6');\n",
              "        const dataTable =\n",
              "          await google.colab.kernel.invokeFunction('convertToInteractive',\n",
              "                                                    [key], {});\n",
              "        if (!dataTable) return;\n",
              "\n",
              "        const docLinkHtml = 'Like what you see? Visit the ' +\n",
              "          '<a target=\"_blank\" href=https://colab.research.google.com/notebooks/data_table.ipynb>data table notebook</a>'\n",
              "          + ' to learn more about interactive tables.';\n",
              "        element.innerHTML = '';\n",
              "        dataTable['output_type'] = 'display_data';\n",
              "        await google.colab.output.renderOutput(dataTable, element);\n",
              "        const docLink = document.createElement('div');\n",
              "        docLink.innerHTML = docLinkHtml;\n",
              "        element.appendChild(docLink);\n",
              "      }\n",
              "    </script>\n",
              "  </div>\n",
              "\n",
              "\n",
              "    <div id=\"df-15f141cb-f387-46d8-9025-5b537eb93361\">\n",
              "      <button class=\"colab-df-quickchart\" onclick=\"quickchart('df-15f141cb-f387-46d8-9025-5b537eb93361')\"\n",
              "                title=\"Suggest charts\"\n",
              "                style=\"display:none;\">\n",
              "\n",
              "<svg xmlns=\"http://www.w3.org/2000/svg\" height=\"24px\"viewBox=\"0 0 24 24\"\n",
              "     width=\"24px\">\n",
              "    <g>\n",
              "        <path d=\"M19 3H5c-1.1 0-2 .9-2 2v14c0 1.1.9 2 2 2h14c1.1 0 2-.9 2-2V5c0-1.1-.9-2-2-2zM9 17H7v-7h2v7zm4 0h-2V7h2v10zm4 0h-2v-4h2v4z\"/>\n",
              "    </g>\n",
              "</svg>\n",
              "      </button>\n",
              "\n",
              "<style>\n",
              "  .colab-df-quickchart {\n",
              "      --bg-color: #E8F0FE;\n",
              "      --fill-color: #1967D2;\n",
              "      --hover-bg-color: #E2EBFA;\n",
              "      --hover-fill-color: #174EA6;\n",
              "      --disabled-fill-color: #AAA;\n",
              "      --disabled-bg-color: #DDD;\n",
              "  }\n",
              "\n",
              "  [theme=dark] .colab-df-quickchart {\n",
              "      --bg-color: #3B4455;\n",
              "      --fill-color: #D2E3FC;\n",
              "      --hover-bg-color: #434B5C;\n",
              "      --hover-fill-color: #FFFFFF;\n",
              "      --disabled-bg-color: #3B4455;\n",
              "      --disabled-fill-color: #666;\n",
              "  }\n",
              "\n",
              "  .colab-df-quickchart {\n",
              "    background-color: var(--bg-color);\n",
              "    border: none;\n",
              "    border-radius: 50%;\n",
              "    cursor: pointer;\n",
              "    display: none;\n",
              "    fill: var(--fill-color);\n",
              "    height: 32px;\n",
              "    padding: 0;\n",
              "    width: 32px;\n",
              "  }\n",
              "\n",
              "  .colab-df-quickchart:hover {\n",
              "    background-color: var(--hover-bg-color);\n",
              "    box-shadow: 0 1px 2px rgba(60, 64, 67, 0.3), 0 1px 3px 1px rgba(60, 64, 67, 0.15);\n",
              "    fill: var(--button-hover-fill-color);\n",
              "  }\n",
              "\n",
              "  .colab-df-quickchart-complete:disabled,\n",
              "  .colab-df-quickchart-complete:disabled:hover {\n",
              "    background-color: var(--disabled-bg-color);\n",
              "    fill: var(--disabled-fill-color);\n",
              "    box-shadow: none;\n",
              "  }\n",
              "\n",
              "  .colab-df-spinner {\n",
              "    border: 2px solid var(--fill-color);\n",
              "    border-color: transparent;\n",
              "    border-bottom-color: var(--fill-color);\n",
              "    animation:\n",
              "      spin 1s steps(1) infinite;\n",
              "  }\n",
              "\n",
              "  @keyframes spin {\n",
              "    0% {\n",
              "      border-color: transparent;\n",
              "      border-bottom-color: var(--fill-color);\n",
              "      border-left-color: var(--fill-color);\n",
              "    }\n",
              "    20% {\n",
              "      border-color: transparent;\n",
              "      border-left-color: var(--fill-color);\n",
              "      border-top-color: var(--fill-color);\n",
              "    }\n",
              "    30% {\n",
              "      border-color: transparent;\n",
              "      border-left-color: var(--fill-color);\n",
              "      border-top-color: var(--fill-color);\n",
              "      border-right-color: var(--fill-color);\n",
              "    }\n",
              "    40% {\n",
              "      border-color: transparent;\n",
              "      border-right-color: var(--fill-color);\n",
              "      border-top-color: var(--fill-color);\n",
              "    }\n",
              "    60% {\n",
              "      border-color: transparent;\n",
              "      border-right-color: var(--fill-color);\n",
              "    }\n",
              "    80% {\n",
              "      border-color: transparent;\n",
              "      border-right-color: var(--fill-color);\n",
              "      border-bottom-color: var(--fill-color);\n",
              "    }\n",
              "    90% {\n",
              "      border-color: transparent;\n",
              "      border-bottom-color: var(--fill-color);\n",
              "    }\n",
              "  }\n",
              "</style>\n",
              "\n",
              "      <script>\n",
              "        async function quickchart(key) {\n",
              "          const quickchartButtonEl =\n",
              "            document.querySelector('#' + key + ' button');\n",
              "          quickchartButtonEl.disabled = true;  // To prevent multiple clicks.\n",
              "          quickchartButtonEl.classList.add('colab-df-spinner');\n",
              "          try {\n",
              "            const charts = await google.colab.kernel.invokeFunction(\n",
              "                'suggestCharts', [key], {});\n",
              "          } catch (error) {\n",
              "            console.error('Error during call to suggestCharts:', error);\n",
              "          }\n",
              "          quickchartButtonEl.classList.remove('colab-df-spinner');\n",
              "          quickchartButtonEl.classList.add('colab-df-quickchart-complete');\n",
              "        }\n",
              "        (() => {\n",
              "          let quickchartButtonEl =\n",
              "            document.querySelector('#df-15f141cb-f387-46d8-9025-5b537eb93361 button');\n",
              "          quickchartButtonEl.style.display =\n",
              "            google.colab.kernel.accessAllowed ? 'block' : 'none';\n",
              "        })();\n",
              "      </script>\n",
              "    </div>\n",
              "\n",
              "    </div>\n",
              "  </div>\n"
            ],
            "application/vnd.google.colaboratory.intrinsic+json": {
              "type": "dataframe",
              "variable_name": "df",
              "summary": "{\n  \"name\": \"df\",\n  \"rows\": 2546,\n  \"fields\": [\n    {\n      \"column\": \"name\",\n      \"properties\": {\n        \"dtype\": \"string\",\n        \"num_unique_values\": 2134,\n        \"samples\": [\n          \"vivo Y12G (Phantom Black, 32 GB)\",\n          \"OPPO A31 (Fantasy White, 128 GB)\",\n          \"Redmi K20 Pro (Pearl White, 128 GB)\"\n        ],\n        \"semantic_type\": \"\",\n        \"description\": \"\"\n      }\n    },\n    {\n      \"column\": \"ratings\",\n      \"properties\": {\n        \"dtype\": \"number\",\n        \"std\": 0.21469129061045925,\n        \"min\": 2.9,\n        \"max\": 5.0,\n        \"num_unique_values\": 19,\n        \"samples\": [\n          4.2,\n          4.0,\n          3.6\n        ],\n        \"semantic_type\": \"\",\n        \"description\": \"\"\n      }\n    },\n    {\n      \"column\": \"price\",\n      \"properties\": {\n        \"dtype\": \"category\",\n        \"num_unique_values\": 758,\n        \"samples\": [\n          \"26499\",\n          \"\\u20b914,999\",\n          \"\\u20b945,999\"\n        ],\n        \"semantic_type\": \"\",\n        \"description\": \"\"\n      }\n    },\n    {\n      \"column\": \"imgURL\",\n      \"properties\": {\n        \"dtype\": \"string\",\n        \"num_unique_values\": 1674,\n        \"samples\": [\n          \"https://rukminim2.flixcart.com/image/312/312/l5bd5zk0/mobile/6/i/r/note-5-x604-infinix-original-imaf9f3exducpvyt.jpeg?q=70\",\n          \"https://rukminim2.flixcart.com/image/312/312/mobile/f/h/u/apple-iphone-6s-plus-na-original-imaebyngvzmrsyfu.jpeg?q=70\",\n          \"https://rukminim2.flixcart.com/image/312/312/xif0q/mobile/h/t/l/spark-10-pro-k17-tecno-original-imagznv2dprqyng3.jpeg?q=70\"\n        ],\n        \"semantic_type\": \"\",\n        \"description\": \"\"\n      }\n    },\n    {\n      \"column\": \"corpus\",\n      \"properties\": {\n        \"dtype\": \"string\",\n        \"num_unique_values\": 1603,\n        \"samples\": [\n          \"Storage128 GBRAM8 GBExpandable Storage1TB  SystemAndroid 11Processor TypeMediaTek Dimensity 700Processor Speed2.2 13MP 2MP 2MP 13MP 2MP 2MP 8MP 8MP 5G Capacity5000 Display Size16.56 cm (6.52 inch)Resolution1600 x 720 PixelsResolution TypeHD+GPUMali-G57 MC2 (at 730 MHz)Display TypeHD+ DisplayDisplay Colors16.7MOther Display Features60 Hz Refresh Rate, 88.7% Screen-to-Body Ratio, Ultra Clear Eyecare Diplay\",\n          \"Storage2.27 MBRAM4  SystemSeries 30Processor TypeNAProcessor Speed208 3MP 3G Capacity1000 Display Size5.16 cm (2.03 inch)Resolution128.16\",\n          \"Storage128 GBRAM4 GBExpandable Storage256GB  SystemAndroid Pie 9Processor TypeHelio P65 (MT6768)Processor Speed2 16MP 8MP 2MP 16MP 32MP 3G Capacity4500 Display Size16.21 cm (6.38 inch)Resolution1080 x 2340 PixelsResolution TypeFull HD+GPUARM Mali G52Display TypeSuper AMOLEDOther Display FeaturesBezel - Top: 2.25mm / Side: 1.87mm / Bottom 5.46mm, Screen to Body Ratio - 90%, Capacitive Multi Touch Screen\"\n        ],\n        \"semantic_type\": \"\",\n        \"description\": \"\"\n      }\n    }\n  ]\n}"
            }
          },
          "metadata": {},
          "execution_count": 11
        }
      ]
    },
    {
      "cell_type": "markdown",
      "source": [
        "Dari output di atas didapatkan bahwa dataset berisi informasi berbagai ponsel, termasuk nama, rating, harga, link gambar, dan deskripsi spesifikasi dalam kolom `corpus`. Deskripsi ini dapat digunakan untuk membangun sistem rekomendasi berbasis konten karena memuat fitur-fitur teknis yang relevan."
      ],
      "metadata": {
        "id": "Y-D3XTWVznZm"
      }
    },
    {
      "cell_type": "markdown",
      "source": [
        "#Eksplorasi Data Awal (EDA)"
      ],
      "metadata": {
        "id": "W_VTYDF50QGH"
      }
    },
    {
      "cell_type": "markdown",
      "source": [
        "**1. Melihat struktur dan ringkasan data**"
      ],
      "metadata": {
        "id": "ZlG7TaYb0ZRI"
      }
    },
    {
      "cell_type": "code",
      "source": [
        "# Tampilkan 5 baris pertama\n",
        "print(df.head())"
      ],
      "metadata": {
        "colab": {
          "base_uri": "https://localhost:8080/"
        },
        "id": "j_AeXfeg0fq7",
        "outputId": "7f4d927c-c764-45d1-9675-6f39f8e1b182"
      },
      "execution_count": 12,
      "outputs": [
        {
          "output_type": "stream",
          "name": "stdout",
          "text": [
            "                                        name  ratings    price  \\\n",
            "0  REDMI Note 12 Pro 5G (Onyx Black, 128 GB)      4.2    23999   \n",
            "1        OPPO F11 Pro (Aurora Green, 128 GB)      4.5  ₹20,999   \n",
            "2     REDMI Note 11 (Starburst White, 64 GB)      4.2    13149   \n",
            "3     OnePlus Nord CE 5G (Blue Void, 256 GB)      4.1    21999   \n",
            "4        APPLE iPhone 13 mini (Blue, 128 GB)      4.6     3537   \n",
            "\n",
            "                                              imgURL  \\\n",
            "0  https://rukminim2.flixcart.com/image/312/312/x...   \n",
            "1  https://rukminim2.flixcart.com/image/312/312/k...   \n",
            "2  https://rukminim2.flixcart.com/image/312/312/x...   \n",
            "3  https://rukminim2.flixcart.com/image/312/312/x...   \n",
            "4  https://rukminim2.flixcart.com/image/312/312/k...   \n",
            "\n",
            "                                              corpus  \n",
            "0  Storage128 GBRAM6  SystemAndroid 12Processor T...  \n",
            "1  Storage128 GBRAM6 GBExpandable Storage256GB  S...  \n",
            "2  Storage64 GBRAM4  SystemAndroid 11Processor Sp...  \n",
            "3  Storage256 GBRAM12  SystemAndroid Q 11Processo...  \n",
            "4  Storage128  SystemiOS 15Processor TypeA15 Bion...  \n"
          ]
        }
      ]
    },
    {
      "cell_type": "code",
      "source": [
        "# Informasi tipe data dan jumlah non-null\n",
        "print(df.info())"
      ],
      "metadata": {
        "colab": {
          "base_uri": "https://localhost:8080/"
        },
        "id": "9VQ_wzmj0lbV",
        "outputId": "8c3beaf5-07c1-438e-9d72-095103fca2bb"
      },
      "execution_count": 13,
      "outputs": [
        {
          "output_type": "stream",
          "name": "stdout",
          "text": [
            "<class 'pandas.core.frame.DataFrame'>\n",
            "RangeIndex: 2546 entries, 0 to 2545\n",
            "Data columns (total 5 columns):\n",
            " #   Column   Non-Null Count  Dtype  \n",
            "---  ------   --------------  -----  \n",
            " 0   name     2546 non-null   object \n",
            " 1   ratings  2546 non-null   float64\n",
            " 2   price    2546 non-null   object \n",
            " 3   imgURL   2546 non-null   object \n",
            " 4   corpus   2534 non-null   object \n",
            "dtypes: float64(1), object(4)\n",
            "memory usage: 99.6+ KB\n",
            "None\n"
          ]
        }
      ]
    },
    {
      "cell_type": "markdown",
      "source": [
        "Dari informasi tersebut didapatkan bahwa dataset memiliki 2.546 baris dan 5 kolom utama yaitu name, ratings, price, imgURL, dan corpus. Semua kolom kecuali ratings dan corpus bertipe data objek (teks), sedangkan ratings bertipe numerik float."
      ],
      "metadata": {
        "id": "tW89aXSe09iT"
      }
    },
    {
      "cell_type": "code",
      "source": [
        "# Statistik deskriptif untuk kolom numerik\n",
        "print(df.describe())"
      ],
      "metadata": {
        "colab": {
          "base_uri": "https://localhost:8080/"
        },
        "id": "UtTEu35l0oal",
        "outputId": "aba783d2-5af9-4465-b46a-70fb7cc9bb16"
      },
      "execution_count": 14,
      "outputs": [
        {
          "output_type": "stream",
          "name": "stdout",
          "text": [
            "           ratings\n",
            "count  2546.000000\n",
            "mean      4.295797\n",
            "std       0.214691\n",
            "min       2.900000\n",
            "25%       4.200000\n",
            "50%       4.300000\n",
            "75%       4.400000\n",
            "max       5.000000\n"
          ]
        }
      ]
    },
    {
      "cell_type": "markdown",
      "source": [
        "Dari ringkasan statistik kolom ratings, rata-rata rating ponsel adalah sekitar 4,3 dengan nilai terendah 2,9 dan tertinggi 5,0. Sebagian besar rating berada di kisaran 4,2 hingga 4,4, menunjukkan bahwa kebanyakan ponsel dalam dataset mendapatkan penilaian yang cukup baik dan konsisten."
      ],
      "metadata": {
        "id": "sbqpVLSP1LBW"
      }
    },
    {
      "cell_type": "markdown",
      "source": [
        "**2. Cek missing value**"
      ],
      "metadata": {
        "id": "CJxJb3Ca1NLb"
      }
    },
    {
      "cell_type": "markdown",
      "source": [
        "Pengecekan missing value penting dilakukan untuk memastikan kualitas data sebelum analisis atau pelatihan model, karena data yang hilang dapat menyebabkan bias atau error."
      ],
      "metadata": {
        "id": "5-otscTU1nvt"
      }
    },
    {
      "cell_type": "code",
      "source": [
        "# Cek jumlah nilai kosong per kolom\n",
        "print(df.isnull().sum())"
      ],
      "metadata": {
        "colab": {
          "base_uri": "https://localhost:8080/"
        },
        "id": "TjA42Z_S1X9a",
        "outputId": "94be14db-96f4-42e2-916b-6d1d6c072565"
      },
      "execution_count": 15,
      "outputs": [
        {
          "output_type": "stream",
          "name": "stdout",
          "text": [
            "name        0\n",
            "ratings     0\n",
            "price       0\n",
            "imgURL      0\n",
            "corpus     12\n",
            "dtype: int64\n"
          ]
        }
      ]
    },
    {
      "cell_type": "markdown",
      "source": [
        "Dari hasil tersebut, hanya kolom corpus yang memiliki nilai kosong sebanyak 12 baris, sedangkan kolom lain seperti name, ratings, price, dan imgURL tidak ada nilai kosong sama sekali."
      ],
      "metadata": {
        "id": "bIPOhuwm2DA0"
      }
    },
    {
      "cell_type": "code",
      "source": [
        "# Hapus baris dengan nilai kosong di kolom 'corpus'\n",
        "df = df.dropna(subset=['corpus'])"
      ],
      "metadata": {
        "id": "ZsQRiGvn2D3J"
      },
      "execution_count": 16,
      "outputs": []
    },
    {
      "cell_type": "code",
      "source": [
        "# Cek ulang missing values setelah dihapus\n",
        "print(df.isnull().sum())"
      ],
      "metadata": {
        "colab": {
          "base_uri": "https://localhost:8080/"
        },
        "id": "G0hOgcvF2LUD",
        "outputId": "81b5a673-dbc8-47ab-f192-6585531225a8"
      },
      "execution_count": 17,
      "outputs": [
        {
          "output_type": "stream",
          "name": "stdout",
          "text": [
            "name       0\n",
            "ratings    0\n",
            "price      0\n",
            "imgURL     0\n",
            "corpus     0\n",
            "dtype: int64\n"
          ]
        }
      ]
    },
    {
      "cell_type": "markdown",
      "source": [
        "Missing values pada kolom corpus sudah berhasil dihapus Karena kolom corpus berisi deskripsi penting untuk hitung kemiripan produk, baris dengan nilai kosong tidak bisa dipakai dan harus dihapus agar sistem rekomendasi berjalan benar."
      ],
      "metadata": {
        "id": "kCyEMzIH2OMI"
      }
    },
    {
      "cell_type": "markdown",
      "source": [
        "**3. Cek Duplikat**"
      ],
      "metadata": {
        "id": "woyiXlMP2ou8"
      }
    },
    {
      "cell_type": "markdown",
      "source": [
        "Cek duplikat penting supaya data tidak ada baris yang sama persis, karena duplikat bisa bikin model rekomendasi bias atau hasilnya kurang akurat."
      ],
      "metadata": {
        "id": "otbCFS0D278s"
      }
    },
    {
      "cell_type": "code",
      "source": [
        "# Cek jumlah baris duplikat\n",
        "print(df.duplicated().sum())"
      ],
      "metadata": {
        "colab": {
          "base_uri": "https://localhost:8080/"
        },
        "id": "Hasgeeqp2wQ-",
        "outputId": "db5f59ba-d03b-4905-e687-6985a410a369"
      },
      "execution_count": 18,
      "outputs": [
        {
          "output_type": "stream",
          "name": "stdout",
          "text": [
            "1\n"
          ]
        }
      ]
    },
    {
      "cell_type": "code",
      "source": [
        "# Hapus baris duplikat\n",
        "df = df.drop_duplicates()"
      ],
      "metadata": {
        "id": "wQhYa_8C3hi3"
      },
      "execution_count": 19,
      "outputs": []
    },
    {
      "cell_type": "code",
      "source": [
        "# Cek ulang jumlah duplikat\n",
        "print(df.duplicated().sum())"
      ],
      "metadata": {
        "colab": {
          "base_uri": "https://localhost:8080/"
        },
        "id": "afUt4myM3i0n",
        "outputId": "7e8d9cc6-d5f6-48b7-f933-aa486f60d9e4"
      },
      "execution_count": 20,
      "outputs": [
        {
          "output_type": "stream",
          "name": "stdout",
          "text": [
            "0\n"
          ]
        }
      ]
    },
    {
      "cell_type": "markdown",
      "source": [
        "Dapat dilihat dari output tersebtu sudah tidak ada lagi baris yang duplikat"
      ],
      "metadata": {
        "id": "loWrN8-n3k3a"
      }
    },
    {
      "cell_type": "markdown",
      "source": [
        "**4. Melihat distribusi rating dan harga**"
      ],
      "metadata": {
        "id": "RCF_nkRu3tue"
      }
    },
    {
      "cell_type": "markdown",
      "source": [
        "Melihat distribusi rating dan harga penting untuk memahami sebaran dan variasi data, misalnya apakah rating dan harga tersebar merata atau terkonsentrasi di nilai tertentu. Ini membantu kita mengenali pola, outlier, atau ketidakseimbangan yang bisa memengaruhi hasil rekomendasi."
      ],
      "metadata": {
        "id": "DYSwtlOR4B_L"
      }
    },
    {
      "cell_type": "code",
      "source": [
        "import matplotlib.pyplot as plt\n",
        "import seaborn as sns\n",
        "\n",
        "# Distribusi rating\n",
        "plt.figure(figsize=(8,4))\n",
        "sns.histplot(df['ratings'], bins=20, kde=True)\n",
        "plt.title('Distribusi Rating Ponsel')\n",
        "plt.xlabel('Rating')\n",
        "plt.ylabel('Jumlah Produk')\n",
        "plt.show()\n",
        "\n",
        "# Distribusi harga (perlu bersihkan format jika ada simbol Rp)\n",
        "df['price'] = df['price'].astype(str).str.replace('[₹,]', '', regex=True).astype(float)\n",
        "\n",
        "plt.figure(figsize=(8,4))\n",
        "sns.histplot(df['price'], bins=30, kde=True)\n",
        "plt.title('Distribusi Harga Ponsel')\n",
        "plt.xlabel('Harga (Rupiah)')\n",
        "plt.ylabel('Jumlah Produk')\n",
        "plt.show()"
      ],
      "metadata": {
        "colab": {
          "base_uri": "https://localhost:8080/",
          "height": 803
        },
        "id": "_SmkcBuN32Iv",
        "outputId": "fd9e9e34-b7b1-4b7d-f50c-56b6f3a364a0"
      },
      "execution_count": 21,
      "outputs": [
        {
          "output_type": "display_data",
          "data": {
            "text/plain": [
              "<Figure size 800x400 with 1 Axes>"
            ],
            "image/png": "[encoded data removed]"
          },
          "metadata": {}
        },
        {
          "output_type": "display_data",
          "data": {
            "text/plain": [
              "<Figure size 800x400 with 1 Axes>"
            ],
            "image/png": "[encoded data removed]"
          },
          "metadata": {}
        }
      ]
    },
    {
      "cell_type": "markdown",
      "source": [
        "1. Distribusi Rating Ponsel (Grafik Atas):\n",
        "- Rating berkisar antara 2.9 hingga 5.0.\n",
        "- Sebagian besar produk memiliki rating antara 4.0 hingga 4.5.\n",
        "- Distribusi terlihat miring ke kiri (left-skewed), menunjukkan bahwa sebagian besar ponsel memiliki rating tinggi.\n",
        "- Sangat sedikit produk yang memiliki rating di bawah 3.5.\n",
        "2. Distribusi Harga Ponsel (Grafik Bawah):\n",
        "- Harga berkisar dari sekitar 0 hingga lebih dari 90.000 Rupiah.\n",
        "- Sebagian besar produk berada pada kisaran harga 5.000 hingga 30.000 Rupiah.\n",
        "- Distribusi terlihat miring ke kanan (right-skewed), artinya lebih banyak ponsel dengan harga murah dibandingkan mahal.\n",
        "- Ada beberapa outlier dengan harga yang sangat tinggi.\n",
        "\n",
        "Konsumen cenderung memberikan rating tinggi untuk sebagian besar produk. Pasar didominasi oleh ponsel dengan harga menengah ke bawah, meskipun ada beberapa produk mahal."
      ],
      "metadata": {
        "id": "MwYkAVLg4kdY"
      }
    },
    {
      "cell_type": "markdown",
      "source": [
        "**5. Cek Korelasi**"
      ],
      "metadata": {
        "id": "bdgvjJaW5eo7"
      }
    },
    {
      "cell_type": "markdown",
      "source": [
        "Cek korelasi penting untuk mengetahui seberapa kuat hubungan antara dua variabel, misalnya antara rating dan harga. Ini membantu memahami apakah harga memengaruhi rating atau tidak."
      ],
      "metadata": {
        "id": "0C5ZSRL_52BK"
      }
    },
    {
      "cell_type": "code",
      "source": [
        "# Korelasi antara rating dan harga\n",
        "print(df[['ratings', 'price']].corr())"
      ],
      "metadata": {
        "colab": {
          "base_uri": "https://localhost:8080/"
        },
        "id": "Zv8grwe55ney",
        "outputId": "a8967e9a-f7ab-45a1-d458-5239da3e82e9"
      },
      "execution_count": 22,
      "outputs": [
        {
          "output_type": "stream",
          "name": "stdout",
          "text": [
            "          ratings     price\n",
            "ratings  1.000000  0.010996\n",
            "price    0.010996  1.000000\n"
          ]
        }
      ]
    },
    {
      "cell_type": "markdown",
      "source": [
        "Dari output tersebut terlihat bahwa korelasi antara ratings dan price sangat kecil (0,010), hampir nol, yang berarti tidak ada hubungan linear yang signifikan antara harga ponsel dan ratingnya dalam dataset ini. Jadi, harga tidak berpengaruh langsung pada rating produk."
      ],
      "metadata": {
        "id": "6gC5O8Ta53iF"
      }
    },
    {
      "cell_type": "markdown",
      "source": [
        "#Preprocessing"
      ],
      "metadata": {
        "id": "qTET5p9w7r2P"
      }
    },
    {
      "cell_type": "markdown",
      "source": [
        "**1. Bersihkan data teks di kolom corpus**"
      ],
      "metadata": {
        "id": "fq7AfQ1E8cCi"
      }
    },
    {
      "cell_type": "code",
      "source": [
        "import re\n",
        "import nltk\n",
        "from nltk.corpus import stopwords\n",
        "\n",
        "nltk.download('stopwords')\n",
        "\n",
        "def clean_text(text):\n",
        "    text = text.lower()\n",
        "    text = re.sub(r'[^a-z\\s]', '', text)  # hanya huruf dan spasi\n",
        "    tokens = text.split()\n",
        "    stop_words = set(stopwords.words('english'))\n",
        "    tokens = [word for word in tokens if word not in stop_words]\n",
        "    return ' '.join(tokens)\n",
        "\n",
        "df['clean_corpus'] = df['corpus'].fillna('').apply(clean_text)"
      ],
      "metadata": {
        "colab": {
          "base_uri": "https://localhost:8080/"
        },
        "id": "eQRGzTYy87rn",
        "outputId": "d11a3f41-c753-4a9e-c6db-a32a3f106763"
      },
      "execution_count": 24,
      "outputs": [
        {
          "output_type": "stream",
          "name": "stderr",
          "text": [
            "[nltk_data] Downloading package stopwords to /root/nltk_data...\n",
            "[nltk_data]   Unzipping corpora/stopwords.zip.\n"
          ]
        }
      ]
    },
    {
      "cell_type": "code",
      "source": [
        "print(df[['corpus', 'clean_corpus']].head(5))"
      ],
      "metadata": {
        "colab": {
          "base_uri": "https://localhost:8080/"
        },
        "id": "_kJwUwSO9uGF",
        "outputId": "95d7df89-fb23-4a8c-90c9-614dba6ac71e"
      },
      "execution_count": 27,
      "outputs": [
        {
          "output_type": "stream",
          "name": "stdout",
          "text": [
            "                                              corpus  \\\n",
            "0  Storage128 GBRAM6  SystemAndroid 12Processor T...   \n",
            "1  Storage128 GBRAM6 GBExpandable Storage256GB  S...   \n",
            "2  Storage64 GBRAM4  SystemAndroid 11Processor Sp...   \n",
            "3  Storage256 GBRAM12  SystemAndroid Q 11Processo...   \n",
            "4  Storage128  SystemiOS 15Processor TypeA15 Bion...   \n",
            "\n",
            "                                        clean_corpus  \n",
            "0  storage gbram systemandroid processor typemedi...  \n",
            "1  storage gbram gbexpandable storagegb systemand...  \n",
            "2  storage gbram systemandroid processor speed mp...  \n",
            "3  storage gbram systemandroid q processor typequ...  \n",
            "4  storage systemios processor typea bionic chip ...  \n"
          ]
        }
      ]
    },
    {
      "cell_type": "markdown",
      "source": [
        "kolom clean_corpus sudah berhasil diproses. Artinya, teks sudah siap digunakan untuk tahap selanjutnya"
      ],
      "metadata": {
        "id": "gXQDCM0T-S9G"
      }
    },
    {
      "cell_type": "markdown",
      "source": [
        "**2. Ubah teks menjadi representasi numerik**"
      ],
      "metadata": {
        "id": "qiTJeZ_b9Fft"
      }
    },
    {
      "cell_type": "markdown",
      "source": [
        "menggunakan teknik seperti TF-IDF Vectorizer untuk mengubah deskripsi corpus menjadi vektor fitur yang bisa dihitung kemiripannya"
      ],
      "metadata": {
        "id": "z-_PtJLD9Kq4"
      }
    },
    {
      "cell_type": "code",
      "source": [
        "from sklearn.feature_extraction.text import TfidfVectorizer\n",
        "\n",
        "tfidf = TfidfVectorizer()\n",
        "tfidf_matrix = tfidf.fit_transform(df['clean_corpus'])"
      ],
      "metadata": {
        "id": "5jblPe8M9Ofn"
      },
      "execution_count": 25,
      "outputs": []
    },
    {
      "cell_type": "code",
      "source": [
        "print(tfidf_matrix.shape)  # baris x kolom fitur\n",
        "print(tfidf.get_feature_names_out()[:10])  # 10 kata pertama di TF-IDF"
      ],
      "metadata": {
        "colab": {
          "base_uri": "https://localhost:8080/"
        },
        "id": "eXJfjUH4-mHy",
        "outputId": "18bd2c65-e7ae-4a87-d66b-0db74f7dbb8a"
      },
      "execution_count": 28,
      "outputs": [
        {
          "output_type": "stream",
          "name": "stdout",
          "text": [
            "(2533, 1006)\n",
            "['aa' 'aabody' 'aatp' 'ab' 'access' 'accurate' 'active' 'adaptive'\n",
            " 'adaptivesync' 'adisplay']\n"
          ]
        }
      ]
    },
    {
      "cell_type": "markdown",
      "source": [
        "sudah berhasil diproses dan diubah menjadi bentuk numerik (TF-IDF), dan siap digunakan"
      ],
      "metadata": {
        "id": "qrnjeINq-3YB"
      }
    },
    {
      "cell_type": "markdown",
      "source": [
        "**3. Hitung kemiripan antar produk**"
      ],
      "metadata": {
        "id": "Rwb3QSOq9TFF"
      }
    },
    {
      "cell_type": "markdown",
      "source": [
        "Menggunakan cosine similarity pada matriks TF-IDF untuk mengetahui produk mana yang paling mirip"
      ],
      "metadata": {
        "id": "on2ptpC39ZDx"
      }
    },
    {
      "cell_type": "code",
      "source": [
        "from sklearn.metrics.pairwise import cosine_similarity\n",
        "\n",
        "cosine_sim = cosine_similarity(tfidf_matrix, tfidf_matrix)"
      ],
      "metadata": {
        "id": "hZGr3nTA9env"
      },
      "execution_count": 26,
      "outputs": []
    },
    {
      "cell_type": "code",
      "source": [
        "# Contoh 5 baris dan kolom awal dari matriks cosine similarity\n",
        "print(cosine_sim[:5, :5])"
      ],
      "metadata": {
        "colab": {
          "base_uri": "https://localhost:8080/"
        },
        "id": "c1hs1fa0-8EP",
        "outputId": "807bb234-f4c0-413d-d81e-1c183e7aecba"
      },
      "execution_count": 29,
      "outputs": [
        {
          "output_type": "stream",
          "name": "stdout",
          "text": [
            "[[1.         0.19168327 0.18821448 0.14441314 0.16046031]\n",
            " [0.19168327 1.         0.14806208 0.12520959 0.20394302]\n",
            " [0.18821448 0.14806208 1.         0.20707278 0.12281501]\n",
            " [0.14441314 0.12520959 0.20707278 1.         0.06523841]\n",
            " [0.16046031 0.20394302 0.12281501 0.06523841 1.        ]]\n"
          ]
        }
      ]
    },
    {
      "cell_type": "markdown",
      "source": [
        "matriks similarity sudah terbentuk dan siap digunakan untuk sistem rekomendasi."
      ],
      "metadata": {
        "id": "I__dWsNg_H1J"
      }
    },
    {
      "cell_type": "markdown",
      "source": [
        "#Modelling"
      ],
      "metadata": {
        "id": "bmEPie8qBX9c"
      }
    },
    {
      "cell_type": "markdown",
      "source": [
        "**1. TF-IDF + Cosine Similarity**"
      ],
      "metadata": {
        "id": "WSDyUEFtBbkV"
      }
    },
    {
      "cell_type": "code",
      "source": [
        "from sklearn.feature_extraction.text import TfidfVectorizer\n",
        "from sklearn.metrics.pairwise import cosine_similarity\n",
        "\n",
        "# TF-IDF Vectorization\n",
        "tfidf = TfidfVectorizer(stop_words='english')\n",
        "tfidf_matrix = tfidf.fit_transform(df['clean_corpus'])\n",
        "\n",
        "# Cosine similarity antar produk\n",
        "cosine_sim = cosine_similarity(tfidf_matrix, tfidf_matrix)\n",
        "\n",
        "# Melihat bentuk matriks\n",
        "print(\"TF-IDF Shape:\", tfidf_matrix.shape)\n",
        "print(\"Cosine Similarity Shape:\", cosine_sim.shape)"
      ],
      "metadata": {
        "colab": {
          "base_uri": "https://localhost:8080/"
        },
        "id": "drkElWY1BeOS",
        "outputId": "d1e51bd4-d21b-42ca-a654-cdd04010cad7"
      },
      "execution_count": 30,
      "outputs": [
        {
          "output_type": "stream",
          "name": "stdout",
          "text": [
            "TF-IDF Shape: (2533, 992)\n",
            "Cosine Similarity Shape: (2533, 2533)\n"
          ]
        }
      ]
    },
    {
      "cell_type": "markdown",
      "source": [
        "**2. K-Nearest Neighbors (KNN) dengan Cosine Distance**"
      ],
      "metadata": {
        "id": "E9BzSRWVBqj5"
      }
    },
    {
      "cell_type": "code",
      "source": [
        "from sklearn.neighbors import NearestNeighbors\n",
        "\n",
        "# Inisialisasi model KNN dengan metrik cosine\n",
        "knn_model = NearestNeighbors(metric='cosine', algorithm='brute')\n",
        "\n",
        "# Fit model menggunakan tf-idf matrix\n",
        "knn_model.fit(tfidf_matrix)\n",
        "\n",
        "# Melihat struktur model\n",
        "print(\"Model KNN telah dilatih menggunakan TF-IDF matrix.\")"
      ],
      "metadata": {
        "colab": {
          "base_uri": "https://localhost:8080/"
        },
        "id": "208PF9SLBt26",
        "outputId": "f53b9c68-fc6e-4c52-e46d-8aa564b63d53"
      },
      "execution_count": 31,
      "outputs": [
        {
          "output_type": "stream",
          "name": "stdout",
          "text": [
            "Model KNN telah dilatih menggunakan TF-IDF matrix.\n"
          ]
        }
      ]
    },
    {
      "cell_type": "markdown",
      "source": [
        "#Evaluasi"
      ],
      "metadata": {
        "id": "raXnsBSOB147"
      }
    },
    {
      "cell_type": "markdown",
      "source": [
        "Evaluasi dalam Content-Based Filtering berbeda dari supervised learning karena:\n",
        "- Tidak ada label benar/salah eksplisit (seperti “produk A cocok direkomendasikan ke user X”).\n",
        "- Evaluasi lebih fokus pada kualitas kemiripan antar item atau seberapa relevan hasil rekomendasinya."
      ],
      "metadata": {
        "id": "SUcgR5GLB3mj"
      }
    },
    {
      "cell_type": "code",
      "source": [
        "# Pilih satu produk secara acak\n",
        "product_index = 10\n",
        "print(\"Produk acuan:\", df.iloc[product_index]['name'])\n",
        "print(\"Deskripsi:\", df.iloc[product_index]['clean_corpus'])\n",
        "\n",
        "# Ambil top 5 produk paling mirip (selain dirinya sendiri)\n",
        "sim_scores = list(enumerate(cosine_sim[product_index]))\n",
        "sim_scores = sorted(sim_scores, key=lambda x: x[1], reverse=True)\n",
        "top_similar = sim_scores[1:6]  # skip index ke-0 (dirinya sendiri)\n",
        "\n",
        "# Tampilkan hasil\n",
        "print(\"\\nTop 5 produk mirip:\")\n",
        "for idx, score in top_similar:\n",
        "    print(f\"- {df.iloc[idx]['name']} (Skor: {score:.4f})\")"
      ],
      "metadata": {
        "colab": {
          "base_uri": "https://localhost:8080/"
        },
        "id": "psFAPCbxCD8Y",
        "outputId": "c83d617c-aab6-40a9-91eb-b7ba4ff18801"
      },
      "execution_count": 32,
      "outputs": [
        {
          "output_type": "stream",
          "name": "stdout",
          "text": [
            "Produk acuan: vivo Z1Pro (Sonic Black, 64 GB)\n",
            "Deskripsi: storage gbram gbexpandable storagegb systemandroid pie processor typequalcomm snapdragon aie octa core ghzprocessor speed mp mp mp mp mp mp mp mp g capacity display size cm inchresolution x pixelsresolution typefull hdgpuadreno display colorsmother display featuresbezel mm screen body ratio\n",
            "\n",
            "Top 5 produk mirip:\n",
            "- vivo Z1Pro (Sonic Blue, 64 GB) (Skor: 1.0000)\n",
            "- vivo Z1Pro (Mirror Black, 64 GB) (Skor: 1.0000)\n",
            "- vivo Z1Pro (Sonic Blue, 128 GB) (Skor: 1.0000)\n",
            "- vivo V15 Pro (Topaz Blue, 128 GB) (Skor: 0.8039)\n",
            "- vivo S1 Pro (Dreamy White, 128 GB) (Skor: 0.7401)\n"
          ]
        }
      ]
    },
    {
      "cell_type": "markdown",
      "source": [
        "Dari output di atas, sistem berhasil merekomendasikan produk yang sangat relevan dengan produk acuan \"vivo Z1Pro (Sonic Black, 64 GB)\".\n",
        "\n",
        "Tiga produk teratas memiliki skor kemiripan 1.0000, artinya deskripsinya identik—kemungkinan varian warna atau kapasitas berbeda dari model yang sama. Dua produk berikutnya juga masih dari merek vivo, dengan skor kemiripan tinggi (0.8039 dan 0.7401), menunjukkan bahwa sistem mampu mengenali produk-produk yang serupa dalam spesifikasi.\n",
        "\n",
        "Sistem rekomendasi berbasis content-based filtering ini bekerja dengan baik dalam mengidentifikasi produk-produk yang mirip dari sisi fitur teknis."
      ],
      "metadata": {
        "id": "Tu9R0iVVCXxq"
      }
    },
    {
      "cell_type": "markdown",
      "source": [
        "**Distribusi Skor Kemiripan**"
      ],
      "metadata": {
        "id": "Uwj25QBsCjnI"
      }
    },
    {
      "cell_type": "code",
      "source": [
        "import matplotlib.pyplot as plt\n",
        "import seaborn as sns\n",
        "\n",
        "# Ambil semua skor cosine similarity (kecuali diagonal)\n",
        "import numpy as np\n",
        "cosine_scores = cosine_sim[np.triu_indices_from(cosine_sim, k=1)]\n",
        "\n",
        "# Visualisasi\n",
        "plt.figure(figsize=(8, 4))\n",
        "sns.histplot(cosine_scores, bins=50, kde=True)\n",
        "plt.title(\"Distribusi Cosine Similarity antar Produk\")\n",
        "plt.xlabel(\"Similarity Score\")\n",
        "plt.ylabel(\"Frequency\")\n",
        "plt.show()"
      ],
      "metadata": {
        "colab": {
          "base_uri": "https://localhost:8080/",
          "height": 410
        },
        "id": "lFZNCQjhCmjY",
        "outputId": "876a750e-7df8-4ca7-ffe5-a3254eabf66d"
      },
      "execution_count": 33,
      "outputs": [
        {
          "output_type": "display_data",
          "data": {
            "text/plain": [
              "<Figure size 800x400 with 1 Axes>"
            ],
            "image/png": "[encoded data removed]"
          },
          "metadata": {}
        }
      ]
    },
    {
      "cell_type": "markdown",
      "source": [
        "dari output tersebut dapat dilihat bahwa Sebagian besar produk di dataset memiliki kemiripan rendah hingga sedang, sementara hanya sedikit yang benar-benar sangat mirip atau identik. Ini wajar dalam sistem rekomendasi produk yang memiliki banyak variasi."
      ],
      "metadata": {
        "id": "m1ZgPDSMDIYB"
      }
    }
  ]
}